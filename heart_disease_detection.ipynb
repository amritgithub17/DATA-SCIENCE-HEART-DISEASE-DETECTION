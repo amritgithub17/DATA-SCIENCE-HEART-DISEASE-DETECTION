{
 "cells": [
  {
   "cell_type": "code",
   "execution_count": 1,
   "id": "a2429ba3",
   "metadata": {},
   "outputs": [],
   "source": [
    "import numpy as np\n",
    "import pandas as pd"
   ]
  },
  {
   "cell_type": "markdown",
   "id": "c1e8214c",
   "metadata": {},
   "source": [
    "Import the dataset. The dataset \"heart.csv\" is present in the same location as this notebook. If you have placed the downloaded dataset in a different folder, please use the full path."
   ]
  },
  {
   "cell_type": "code",
   "execution_count": 2,
   "id": "6245ba24",
   "metadata": {},
   "outputs": [],
   "source": [
    "data = pd.read_csv(\"heart_disease_data.csv\")"
   ]
  },
  {
   "cell_type": "markdown",
   "id": "dc1b29b4",
   "metadata": {},
   "source": [
    "This is how the first few rows of data looks like."
   ]
  },
  {
   "cell_type": "code",
   "execution_count": 3,
   "id": "4b2bdb5a",
   "metadata": {},
   "outputs": [
    {
     "data": {
      "text/html": [
       "<div>\n",
       "<style scoped>\n",
       "    .dataframe tbody tr th:only-of-type {\n",
       "        vertical-align: middle;\n",
       "    }\n",
       "\n",
       "    .dataframe tbody tr th {\n",
       "        vertical-align: top;\n",
       "    }\n",
       "\n",
       "    .dataframe thead th {\n",
       "        text-align: right;\n",
       "    }\n",
       "</style>\n",
       "<table border=\"1\" class=\"dataframe\">\n",
       "  <thead>\n",
       "    <tr style=\"text-align: right;\">\n",
       "      <th></th>\n",
       "      <th>age</th>\n",
       "      <th>sex</th>\n",
       "      <th>cp</th>\n",
       "      <th>trestbps</th>\n",
       "      <th>chol</th>\n",
       "      <th>fbs</th>\n",
       "      <th>restecg</th>\n",
       "      <th>thalach</th>\n",
       "      <th>exang</th>\n",
       "      <th>oldpeak</th>\n",
       "      <th>slope</th>\n",
       "      <th>ca</th>\n",
       "      <th>thal</th>\n",
       "      <th>target</th>\n",
       "    </tr>\n",
       "  </thead>\n",
       "  <tbody>\n",
       "    <tr>\n",
       "      <th>0</th>\n",
       "      <td>63</td>\n",
       "      <td>1</td>\n",
       "      <td>3</td>\n",
       "      <td>145</td>\n",
       "      <td>233</td>\n",
       "      <td>1</td>\n",
       "      <td>0</td>\n",
       "      <td>150</td>\n",
       "      <td>0</td>\n",
       "      <td>2.3</td>\n",
       "      <td>0</td>\n",
       "      <td>0</td>\n",
       "      <td>1</td>\n",
       "      <td>1</td>\n",
       "    </tr>\n",
       "    <tr>\n",
       "      <th>1</th>\n",
       "      <td>37</td>\n",
       "      <td>1</td>\n",
       "      <td>2</td>\n",
       "      <td>130</td>\n",
       "      <td>250</td>\n",
       "      <td>0</td>\n",
       "      <td>1</td>\n",
       "      <td>187</td>\n",
       "      <td>0</td>\n",
       "      <td>3.5</td>\n",
       "      <td>0</td>\n",
       "      <td>0</td>\n",
       "      <td>2</td>\n",
       "      <td>1</td>\n",
       "    </tr>\n",
       "    <tr>\n",
       "      <th>2</th>\n",
       "      <td>41</td>\n",
       "      <td>0</td>\n",
       "      <td>1</td>\n",
       "      <td>130</td>\n",
       "      <td>204</td>\n",
       "      <td>0</td>\n",
       "      <td>0</td>\n",
       "      <td>172</td>\n",
       "      <td>0</td>\n",
       "      <td>1.4</td>\n",
       "      <td>2</td>\n",
       "      <td>0</td>\n",
       "      <td>2</td>\n",
       "      <td>1</td>\n",
       "    </tr>\n",
       "    <tr>\n",
       "      <th>3</th>\n",
       "      <td>56</td>\n",
       "      <td>1</td>\n",
       "      <td>1</td>\n",
       "      <td>120</td>\n",
       "      <td>236</td>\n",
       "      <td>0</td>\n",
       "      <td>1</td>\n",
       "      <td>178</td>\n",
       "      <td>0</td>\n",
       "      <td>0.8</td>\n",
       "      <td>2</td>\n",
       "      <td>0</td>\n",
       "      <td>2</td>\n",
       "      <td>1</td>\n",
       "    </tr>\n",
       "    <tr>\n",
       "      <th>4</th>\n",
       "      <td>57</td>\n",
       "      <td>0</td>\n",
       "      <td>0</td>\n",
       "      <td>120</td>\n",
       "      <td>354</td>\n",
       "      <td>0</td>\n",
       "      <td>1</td>\n",
       "      <td>163</td>\n",
       "      <td>1</td>\n",
       "      <td>0.6</td>\n",
       "      <td>2</td>\n",
       "      <td>0</td>\n",
       "      <td>2</td>\n",
       "      <td>1</td>\n",
       "    </tr>\n",
       "  </tbody>\n",
       "</table>\n",
       "</div>"
      ],
      "text/plain": [
       "   age  sex  cp  trestbps  chol  fbs  restecg  thalach  exang  oldpeak  slope  \\\n",
       "0   63    1   3       145   233    1        0      150      0      2.3      0   \n",
       "1   37    1   2       130   250    0        1      187      0      3.5      0   \n",
       "2   41    0   1       130   204    0        0      172      0      1.4      2   \n",
       "3   56    1   1       120   236    0        1      178      0      0.8      2   \n",
       "4   57    0   0       120   354    0        1      163      1      0.6      2   \n",
       "\n",
       "   ca  thal  target  \n",
       "0   0     1       1  \n",
       "1   0     2       1  \n",
       "2   0     2       1  \n",
       "3   0     2       1  \n",
       "4   0     2       1  "
      ]
     },
     "execution_count": 3,
     "metadata": {},
     "output_type": "execute_result"
    }
   ],
   "source": [
    "data.head()"
   ]
  },
  {
   "cell_type": "code",
   "execution_count": 4,
   "id": "100feb5a",
   "metadata": {},
   "outputs": [
    {
     "name": "stdout",
     "output_type": "stream",
     "text": [
      "The dataset contains 303 rows and 14 columns\n"
     ]
    }
   ],
   "source": [
    "print(\"The dataset contains {} rows and {} columns\".format(data.shape[0], data.shape[1]))"
   ]
  },
  {
   "cell_type": "markdown",
   "id": "d0245e83",
   "metadata": {},
   "source": [
    "# Data Analysis"
   ]
  },
  {
   "cell_type": "markdown",
   "id": "32c93af8",
   "metadata": {},
   "source": [
    "Let us analyze each column (feature) and see for ourself what the data in it ranges like. The column we will be predicting is \"target\"."
   ]
  },
  {
   "cell_type": "code",
   "execution_count": 4,
   "id": "37016d8e",
   "metadata": {},
   "outputs": [
    {
     "name": "stdout",
     "output_type": "stream",
     "text": [
      "Age ranges from: 29 to 77\n"
     ]
    }
   ],
   "source": [
    "# Age\n",
    "print(\"Age ranges from: {} to {}\".format(data['age'].min(), data['age'].max()))"
   ]
  },
  {
   "cell_type": "code",
   "execution_count": 5,
   "id": "84d6364b",
   "metadata": {},
   "outputs": [
    {
     "name": "stdout",
     "output_type": "stream",
     "text": [
      "Categories in column Sex: [1 0]\n"
     ]
    }
   ],
   "source": [
    "# Sex\n",
    "print(\"Categories in column Sex:\", data['sex'].unique())"
   ]
  },
  {
   "cell_type": "code",
   "execution_count": 6,
   "id": "b24860f8",
   "metadata": {},
   "outputs": [
    {
     "name": "stdout",
     "output_type": "stream",
     "text": [
      "Categories in column cp: [3 2 1 0]\n"
     ]
    }
   ],
   "source": [
    "# Chest pain type\n",
    "print(\"Categories in column cp:\", data['cp'].unique())"
   ]
  },
  {
   "cell_type": "code",
   "execution_count": 7,
   "id": "2efdebc3",
   "metadata": {},
   "outputs": [
    {
     "name": "stdout",
     "output_type": "stream",
     "text": [
      "Range in trestbps column: 94 to 200\n"
     ]
    }
   ],
   "source": [
    "# Resting blood pressure\n",
    "print(\"Range in trestbps column: {} to {}\".format(data['trestbps'].min(), data['trestbps'].max()))"
   ]
  },
  {
   "cell_type": "code",
   "execution_count": 8,
   "id": "b2d9f156",
   "metadata": {},
   "outputs": [
    {
     "name": "stdout",
     "output_type": "stream",
     "text": [
      "Range in chol column: 126 to 564\n"
     ]
    }
   ],
   "source": [
    "# Serum cholestrol in mg/dl\n",
    "print(\"Range in chol column: {} to {}\".format(data['chol'].min(), data['chol'].max()))"
   ]
  },
  {
   "cell_type": "code",
   "execution_count": 9,
   "id": "4453bbbf",
   "metadata": {},
   "outputs": [
    {
     "name": "stdout",
     "output_type": "stream",
     "text": [
      "Categories in fbs column: [1 0]\n"
     ]
    }
   ],
   "source": [
    "# Fasting blood sugar > 120 mg/dl\n",
    "print(\"Categories in fbs column:\", data['fbs'].unique())"
   ]
  },
  {
   "cell_type": "code",
   "execution_count": 10,
   "id": "3ef870c5",
   "metadata": {},
   "outputs": [
    {
     "name": "stdout",
     "output_type": "stream",
     "text": [
      "Categories in column restecg: [0 1 2]\n"
     ]
    }
   ],
   "source": [
    "# Resting electrocardiographic results\n",
    "print(\"Categories in column restecg:\", data['restecg'].unique())"
   ]
  },
  {
   "cell_type": "code",
   "execution_count": 11,
   "id": "c7e1e7d9",
   "metadata": {},
   "outputs": [
    {
     "name": "stdout",
     "output_type": "stream",
     "text": [
      "Categories in exang column: [0 1]\n"
     ]
    }
   ],
   "source": [
    "# Exercise induced angina\n",
    "print(\"Categories in exang column:\", data['exang'].unique())"
   ]
  },
  {
   "cell_type": "code",
   "execution_count": 12,
   "id": "fe7f16fb",
   "metadata": {},
   "outputs": [
    {
     "name": "stdout",
     "output_type": "stream",
     "text": [
      "Range in column oldpeak: 0.0 to 6.2\n"
     ]
    }
   ],
   "source": [
    "# Oldpeak = ST depression induced by exercise relative to rest\n",
    "print(\"Range in column oldpeak: {} to {}\".format(data['oldpeak'].min(), data['oldpeak'].max()))"
   ]
  },
  {
   "cell_type": "code",
   "execution_count": 13,
   "id": "3a6f3255",
   "metadata": {},
   "outputs": [
    {
     "name": "stdout",
     "output_type": "stream",
     "text": [
      "Categories in slope column: [0 2 1]\n"
     ]
    }
   ],
   "source": [
    "# the slope of the peak exercise ST segment\n",
    "print(\"Categories in slope column:\", data['slope'].unique())"
   ]
  },
  {
   "cell_type": "code",
   "execution_count": 14,
   "id": "02a56223",
   "metadata": {},
   "outputs": [
    {
     "name": "stdout",
     "output_type": "stream",
     "text": [
      "Range in column ca: 0 to 4\n"
     ]
    }
   ],
   "source": [
    "# number of major vessels (0-3) colored by flourosopy\n",
    "print(\"Range in column ca: {} to {}\".format(data['ca'].min(), data['ca'].max()))"
   ]
  },
  {
   "cell_type": "code",
   "execution_count": 15,
   "id": "472e5fde",
   "metadata": {},
   "outputs": [
    {
     "name": "stdout",
     "output_type": "stream",
     "text": [
      "Categories in thal column: [1 2 3 0]\n"
     ]
    }
   ],
   "source": [
    "# thal: Thalium Stress Test Result\n",
    "print(\"Categories in thal column:\", data['thal'].unique())"
   ]
  },
  {
   "cell_type": "code",
   "execution_count": 16,
   "id": "e7f9423c",
   "metadata": {},
   "outputs": [
    {
     "name": "stdout",
     "output_type": "stream",
     "text": [
      "Categories in target column: [1 0]\n"
     ]
    }
   ],
   "source": [
    "# target\n",
    "print(\"Categories in target column:\", data['target'].unique())"
   ]
  },
  {
   "cell_type": "markdown",
   "id": "8095af15",
   "metadata": {},
   "source": [
    "# Split features and labels "
   ]
  },
  {
   "cell_type": "markdown",
   "id": "37c8e103",
   "metadata": {},
   "source": [
    "We have 14 columns in our dataset. \"target\" is the column we will predict. It is called label. It is separated from the rest of the dataset.\n",
    "\n",
    "After this, we will have X with 13 columns called \"features\" & y with a single column called \"label\""
   ]
  },
  {
   "cell_type": "code",
   "execution_count": 17,
   "id": "1a0e7e98",
   "metadata": {},
   "outputs": [],
   "source": [
    "y = data['target']\n",
    "X = data.drop(['target'], axis=1)"
   ]
  },
  {
   "cell_type": "markdown",
   "id": "0d45c635",
   "metadata": {},
   "source": [
    "# Scaling"
   ]
  },
  {
   "cell_type": "markdown",
   "id": "f559311d",
   "metadata": {},
   "source": [
    "Scaling is a process of squishing the numbers between 0 and 1. As the algorithm better understands scaled values, we are implementing this step."
   ]
  },
  {
   "cell_type": "code",
   "execution_count": 18,
   "id": "5f32d26a",
   "metadata": {},
   "outputs": [],
   "source": [
    "numeric_features = ['age', 'sex', 'cp', 'trestbps', 'chol', 'fbs', 'restecg', \n",
    "                    'thalach', 'exang', 'oldpeak', 'slope', 'ca', 'thal']"
   ]
  },
  {
   "cell_type": "code",
   "execution_count": 24,
   "id": "aacb3a17",
   "metadata": {},
   "outputs": [],
   "source": [
    "from sklearn.preprocessing import MinMaxScaler\n",
    "\n",
    "scaler = MinMaxScaler()\n",
    "\n",
    "X_scaled = pd.DataFrame(X)\n",
    "X_scaled[numeric_features] = scaler.fit_transform(X_scaled[numeric_features])"
   ]
  },
  {
   "cell_type": "code",
   "execution_count": 25,
   "id": "49da8489",
   "metadata": {},
   "outputs": [
    {
     "data": {
      "text/html": [
       "<div>\n",
       "<style scoped>\n",
       "    .dataframe tbody tr th:only-of-type {\n",
       "        vertical-align: middle;\n",
       "    }\n",
       "\n",
       "    .dataframe tbody tr th {\n",
       "        vertical-align: top;\n",
       "    }\n",
       "\n",
       "    .dataframe thead th {\n",
       "        text-align: right;\n",
       "    }\n",
       "</style>\n",
       "<table border=\"1\" class=\"dataframe\">\n",
       "  <thead>\n",
       "    <tr style=\"text-align: right;\">\n",
       "      <th></th>\n",
       "      <th>age</th>\n",
       "      <th>sex</th>\n",
       "      <th>cp</th>\n",
       "      <th>trestbps</th>\n",
       "      <th>chol</th>\n",
       "      <th>fbs</th>\n",
       "      <th>restecg</th>\n",
       "      <th>thalach</th>\n",
       "      <th>exang</th>\n",
       "      <th>oldpeak</th>\n",
       "      <th>slope</th>\n",
       "      <th>ca</th>\n",
       "      <th>thal</th>\n",
       "    </tr>\n",
       "  </thead>\n",
       "  <tbody>\n",
       "    <tr>\n",
       "      <th>0</th>\n",
       "      <td>0.708333</td>\n",
       "      <td>1.0</td>\n",
       "      <td>1.000000</td>\n",
       "      <td>0.481132</td>\n",
       "      <td>0.244292</td>\n",
       "      <td>1.0</td>\n",
       "      <td>0.0</td>\n",
       "      <td>0.603053</td>\n",
       "      <td>0.0</td>\n",
       "      <td>0.370968</td>\n",
       "      <td>0.0</td>\n",
       "      <td>0.0</td>\n",
       "      <td>0.333333</td>\n",
       "    </tr>\n",
       "    <tr>\n",
       "      <th>1</th>\n",
       "      <td>0.166667</td>\n",
       "      <td>1.0</td>\n",
       "      <td>0.666667</td>\n",
       "      <td>0.339623</td>\n",
       "      <td>0.283105</td>\n",
       "      <td>0.0</td>\n",
       "      <td>0.5</td>\n",
       "      <td>0.885496</td>\n",
       "      <td>0.0</td>\n",
       "      <td>0.564516</td>\n",
       "      <td>0.0</td>\n",
       "      <td>0.0</td>\n",
       "      <td>0.666667</td>\n",
       "    </tr>\n",
       "    <tr>\n",
       "      <th>2</th>\n",
       "      <td>0.250000</td>\n",
       "      <td>0.0</td>\n",
       "      <td>0.333333</td>\n",
       "      <td>0.339623</td>\n",
       "      <td>0.178082</td>\n",
       "      <td>0.0</td>\n",
       "      <td>0.0</td>\n",
       "      <td>0.770992</td>\n",
       "      <td>0.0</td>\n",
       "      <td>0.225806</td>\n",
       "      <td>1.0</td>\n",
       "      <td>0.0</td>\n",
       "      <td>0.666667</td>\n",
       "    </tr>\n",
       "    <tr>\n",
       "      <th>3</th>\n",
       "      <td>0.562500</td>\n",
       "      <td>1.0</td>\n",
       "      <td>0.333333</td>\n",
       "      <td>0.245283</td>\n",
       "      <td>0.251142</td>\n",
       "      <td>0.0</td>\n",
       "      <td>0.5</td>\n",
       "      <td>0.816794</td>\n",
       "      <td>0.0</td>\n",
       "      <td>0.129032</td>\n",
       "      <td>1.0</td>\n",
       "      <td>0.0</td>\n",
       "      <td>0.666667</td>\n",
       "    </tr>\n",
       "    <tr>\n",
       "      <th>4</th>\n",
       "      <td>0.583333</td>\n",
       "      <td>0.0</td>\n",
       "      <td>0.000000</td>\n",
       "      <td>0.245283</td>\n",
       "      <td>0.520548</td>\n",
       "      <td>0.0</td>\n",
       "      <td>0.5</td>\n",
       "      <td>0.702290</td>\n",
       "      <td>1.0</td>\n",
       "      <td>0.096774</td>\n",
       "      <td>1.0</td>\n",
       "      <td>0.0</td>\n",
       "      <td>0.666667</td>\n",
       "    </tr>\n",
       "  </tbody>\n",
       "</table>\n",
       "</div>"
      ],
      "text/plain": [
       "        age  sex        cp  trestbps      chol  fbs  restecg   thalach  exang  \\\n",
       "0  0.708333  1.0  1.000000  0.481132  0.244292  1.0      0.0  0.603053    0.0   \n",
       "1  0.166667  1.0  0.666667  0.339623  0.283105  0.0      0.5  0.885496    0.0   \n",
       "2  0.250000  0.0  0.333333  0.339623  0.178082  0.0      0.0  0.770992    0.0   \n",
       "3  0.562500  1.0  0.333333  0.245283  0.251142  0.0      0.5  0.816794    0.0   \n",
       "4  0.583333  0.0  0.000000  0.245283  0.520548  0.0      0.5  0.702290    1.0   \n",
       "\n",
       "    oldpeak  slope   ca      thal  \n",
       "0  0.370968    0.0  0.0  0.333333  \n",
       "1  0.564516    0.0  0.0  0.666667  \n",
       "2  0.225806    1.0  0.0  0.666667  \n",
       "3  0.129032    1.0  0.0  0.666667  \n",
       "4  0.096774    1.0  0.0  0.666667  "
      ]
     },
     "execution_count": 25,
     "metadata": {},
     "output_type": "execute_result"
    }
   ],
   "source": [
    "X_scaled.head()"
   ]
  },
  {
   "cell_type": "markdown",
   "id": "3cf90c29",
   "metadata": {},
   "source": [
    "# Split training and testing set"
   ]
  },
  {
   "cell_type": "markdown",
   "id": "cf9f012c",
   "metadata": {},
   "source": [
    "Now the dataset is plit into training and testing set in the ratio of 70:30, which is indicated in the test_size parameter as 0.3. You can use a varying test size if you like.\n",
    "\n",
    "The dataset is also shuffled to break any pattern which naturally could have occured in the dataset.\n",
    "\n",
    "A random state (use any numner. I am just going with 10) is set so that everytime after shuffling we end up with the same segments of data. This makes sure we get the same results with repeated runs of this program."
   ]
  },
  {
   "cell_type": "code",
   "execution_count": 26,
   "id": "0ec63cb4",
   "metadata": {},
   "outputs": [],
   "source": [
    "from sklearn.model_selection import train_test_split\n",
    "X_train, X_test, y_train, y_test = train_test_split(X_scaled, y, test_size=0.3, shuffle=True, random_state=10)"
   ]
  },
  {
   "cell_type": "markdown",
   "id": "1f3f7c6a",
   "metadata": {},
   "source": [
    "# Model fitting and prediction"
   ]
  },
  {
   "cell_type": "code",
   "execution_count": 27,
   "id": "35040d90",
   "metadata": {},
   "outputs": [],
   "source": [
    "from sklearn.linear_model import LogisticRegression\n",
    "\n",
    "model = LogisticRegression(random_state=0)\n",
    "model.fit(X_train, y_train)\n",
    "y_pred = model.predict(X_test)"
   ]
  },
  {
   "cell_type": "markdown",
   "id": "2acab41f",
   "metadata": {},
   "source": [
    "# Calculate accuracy score"
   ]
  },
  {
   "cell_type": "code",
   "execution_count": 28,
   "id": "a36013cf",
   "metadata": {},
   "outputs": [
    {
     "name": "stdout",
     "output_type": "stream",
     "text": [
      "Accuracy of the model is: 0.7802197802197802\n"
     ]
    }
   ],
   "source": [
    "from sklearn.metrics import accuracy_score\n",
    "score = accuracy_score(y_pred, y_test)\n",
    "print(\"Accuracy of the model is:\", score)"
   ]
  },
  {
   "cell_type": "code",
   "execution_count": null,
   "id": "3da8897d",
   "metadata": {},
   "outputs": [],
   "source": []
  },
  {
   "cell_type": "code",
   "execution_count": null,
   "id": "8ebcf6e1",
   "metadata": {},
   "outputs": [],
   "source": []
  }
 ],
 "metadata": {
  "kernelspec": {
   "display_name": "Python 3 (ipykernel)",
   "language": "python",
   "name": "python3"
  },
  "language_info": {
   "codemirror_mode": {
    "name": "ipython",
    "version": 3
   },
   "file_extension": ".py",
   "mimetype": "text/x-python",
   "name": "python",
   "nbconvert_exporter": "python",
   "pygments_lexer": "ipython3",
   "version": "3.9.12"
  }
 },
 "nbformat": 4,
 "nbformat_minor": 5
}
